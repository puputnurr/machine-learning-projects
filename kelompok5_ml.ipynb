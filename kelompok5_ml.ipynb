{
  "nbformat": 4,
  "nbformat_minor": 0,
  "metadata": {
    "colab": {
      "provenance": []
    },
    "kernelspec": {
      "name": "python3",
      "display_name": "Python 3"
    },
    "language_info": {
      "name": "python"
    }
  },
  "cells": [
    {
      "cell_type": "markdown",
      "source": [
        "#**Analyzing Mental of Students**\n",
        "\n"
      ],
      "metadata": {
        "id": "gU12dLd7afzV"
      }
    },
    {
      "cell_type": "markdown",
      "source": [
        "# Import Library"
      ],
      "metadata": {
        "id": "5Tu-BNI5nmDI"
      }
    },
    {
      "cell_type": "code",
      "source": [
        "import pandas as pd\n",
        "import numpy as np\n",
        "import matplotlib.pyplot as plt\n",
        "import seaborn as sns\n",
        "from sklearn.preprocessing import LabelEncoder, StandardScaler\n",
        "from sklearn.model_selection import train_test_split\n",
        "from sklearn.ensemble import RandomForestClassifier\n",
        "from sklearn.metrics import accuracy_score, classification_report, confusion_matrix"
      ],
      "metadata": {
        "id": "FMiKPE3vnpYK"
      },
      "execution_count": null,
      "outputs": []
    },
    {
      "cell_type": "markdown",
      "source": [
        "# Preprocessing Data"
      ],
      "metadata": {
        "id": "97cEs9S_mycG"
      }
    },
    {
      "cell_type": "markdown",
      "source": [
        "## Load dan Cek Data"
      ],
      "metadata": {
        "id": "Tfp_6nAHcQg-"
      }
    },
    {
      "cell_type": "code",
      "source": [
        "df = pd.read_csv('/content/drive/MyDrive/student_depression_dataset.csv')\n",
        "df"
      ],
      "metadata": {
        "colab": {
          "base_uri": "https://localhost:8080/",
          "height": 562
        },
        "id": "qjbG4EdEn1MY",
        "outputId": "202e47f8-298a-478d-b6e5-8637840600ff"
      },
      "execution_count": null,
      "outputs": [
        {
          "output_type": "execute_result",
          "data": {
            "text/plain": [
              "           id  Gender   Age           City Profession  Academic Pressure  \\\n",
              "0           2    Male  33.0  Visakhapatnam    Student                5.0   \n",
              "1           8  Female  24.0      Bangalore    Student                2.0   \n",
              "2          26    Male  31.0       Srinagar    Student                3.0   \n",
              "3          30  Female  28.0       Varanasi    Student                3.0   \n",
              "4          32  Female  25.0         Jaipur    Student                4.0   \n",
              "...       ...     ...   ...            ...        ...                ...   \n",
              "27896  140685  Female  27.0          Surat    Student                5.0   \n",
              "27897  140686    Male  27.0       Ludhiana    Student                2.0   \n",
              "27898  140689    Male  31.0      Faridabad    Student                3.0   \n",
              "27899  140690  Female  18.0       Ludhiana    Student                5.0   \n",
              "27900  140699    Male  27.0          Patna    Student                4.0   \n",
              "\n",
              "       Work Pressure  CGPA  Study Satisfaction  Job Satisfaction  \\\n",
              "0                0.0  8.97                 2.0               0.0   \n",
              "1                0.0  5.90                 5.0               0.0   \n",
              "2                0.0  7.03                 5.0               0.0   \n",
              "3                0.0  5.59                 2.0               0.0   \n",
              "4                0.0  8.13                 3.0               0.0   \n",
              "...              ...   ...                 ...               ...   \n",
              "27896            0.0  5.75                 5.0               0.0   \n",
              "27897            0.0  9.40                 3.0               0.0   \n",
              "27898            0.0  6.61                 4.0               0.0   \n",
              "27899            0.0  6.88                 2.0               0.0   \n",
              "27900            0.0  9.24                 1.0               0.0   \n",
              "\n",
              "            Sleep Duration Dietary Habits      Degree  \\\n",
              "0              '5-6 hours'        Healthy     B.Pharm   \n",
              "1              '5-6 hours'       Moderate         BSc   \n",
              "2      'Less than 5 hours'        Healthy          BA   \n",
              "3              '7-8 hours'       Moderate         BCA   \n",
              "4              '5-6 hours'       Moderate      M.Tech   \n",
              "...                    ...            ...         ...   \n",
              "27896          '5-6 hours'      Unhealthy  'Class 12'   \n",
              "27897  'Less than 5 hours'        Healthy         MSc   \n",
              "27898          '5-6 hours'      Unhealthy          MD   \n",
              "27899  'Less than 5 hours'        Healthy  'Class 12'   \n",
              "27900  'Less than 5 hours'        Healthy         BCA   \n",
              "\n",
              "      Have you ever had suicidal thoughts ?  Work/Study Hours  \\\n",
              "0                                       Yes               3.0   \n",
              "1                                        No               3.0   \n",
              "2                                        No               9.0   \n",
              "3                                       Yes               4.0   \n",
              "4                                       Yes               1.0   \n",
              "...                                     ...               ...   \n",
              "27896                                   Yes               7.0   \n",
              "27897                                    No               0.0   \n",
              "27898                                    No              12.0   \n",
              "27899                                   Yes              10.0   \n",
              "27900                                   Yes               2.0   \n",
              "\n",
              "      Financial Stress Family History of Mental Illness  Depression  \n",
              "0                  1.0                               No           1  \n",
              "1                  2.0                              Yes           0  \n",
              "2                  1.0                              Yes           0  \n",
              "3                  5.0                              Yes           1  \n",
              "4                  1.0                               No           0  \n",
              "...                ...                              ...         ...  \n",
              "27896              1.0                              Yes           0  \n",
              "27897              3.0                              Yes           0  \n",
              "27898              2.0                               No           0  \n",
              "27899              5.0                               No           1  \n",
              "27900              3.0                              Yes           1  \n",
              "\n",
              "[27901 rows x 18 columns]"
            ],
            "text/html": [
              "\n",
              "  <div id=\"df-a8c0d387-5bdf-4eb8-885d-23bb24bf64ed\" class=\"colab-df-container\">\n",
              "    <div>\n",
              "<style scoped>\n",
              "    .dataframe tbody tr th:only-of-type {\n",
              "        vertical-align: middle;\n",
              "    }\n",
              "\n",
              "    .dataframe tbody tr th {\n",
              "        vertical-align: top;\n",
              "    }\n",
              "\n",
              "    .dataframe thead th {\n",
              "        text-align: right;\n",
              "    }\n",
              "</style>\n",
              "<table border=\"1\" class=\"dataframe\">\n",
              "  <thead>\n",
              "    <tr style=\"text-align: right;\">\n",
              "      <th></th>\n",
              "      <th>id</th>\n",
              "      <th>Gender</th>\n",
              "      <th>Age</th>\n",
              "      <th>City</th>\n",
              "      <th>Profession</th>\n",
              "      <th>Academic Pressure</th>\n",
              "      <th>Work Pressure</th>\n",
              "      <th>CGPA</th>\n",
              "      <th>Study Satisfaction</th>\n",
              "      <th>Job Satisfaction</th>\n",
              "      <th>Sleep Duration</th>\n",
              "      <th>Dietary Habits</th>\n",
              "      <th>Degree</th>\n",
              "      <th>Have you ever had suicidal thoughts ?</th>\n",
              "      <th>Work/Study Hours</th>\n",
              "      <th>Financial Stress</th>\n",
              "      <th>Family History of Mental Illness</th>\n",
              "      <th>Depression</th>\n",
              "    </tr>\n",
              "  </thead>\n",
              "  <tbody>\n",
              "    <tr>\n",
              "      <th>0</th>\n",
              "      <td>2</td>\n",
              "      <td>Male</td>\n",
              "      <td>33.0</td>\n",
              "      <td>Visakhapatnam</td>\n",
              "      <td>Student</td>\n",
              "      <td>5.0</td>\n",
              "      <td>0.0</td>\n",
              "      <td>8.97</td>\n",
              "      <td>2.0</td>\n",
              "      <td>0.0</td>\n",
              "      <td>'5-6 hours'</td>\n",
              "      <td>Healthy</td>\n",
              "      <td>B.Pharm</td>\n",
              "      <td>Yes</td>\n",
              "      <td>3.0</td>\n",
              "      <td>1.0</td>\n",
              "      <td>No</td>\n",
              "      <td>1</td>\n",
              "    </tr>\n",
              "    <tr>\n",
              "      <th>1</th>\n",
              "      <td>8</td>\n",
              "      <td>Female</td>\n",
              "      <td>24.0</td>\n",
              "      <td>Bangalore</td>\n",
              "      <td>Student</td>\n",
              "      <td>2.0</td>\n",
              "      <td>0.0</td>\n",
              "      <td>5.90</td>\n",
              "      <td>5.0</td>\n",
              "      <td>0.0</td>\n",
              "      <td>'5-6 hours'</td>\n",
              "      <td>Moderate</td>\n",
              "      <td>BSc</td>\n",
              "      <td>No</td>\n",
              "      <td>3.0</td>\n",
              "      <td>2.0</td>\n",
              "      <td>Yes</td>\n",
              "      <td>0</td>\n",
              "    </tr>\n",
              "    <tr>\n",
              "      <th>2</th>\n",
              "      <td>26</td>\n",
              "      <td>Male</td>\n",
              "      <td>31.0</td>\n",
              "      <td>Srinagar</td>\n",
              "      <td>Student</td>\n",
              "      <td>3.0</td>\n",
              "      <td>0.0</td>\n",
              "      <td>7.03</td>\n",
              "      <td>5.0</td>\n",
              "      <td>0.0</td>\n",
              "      <td>'Less than 5 hours'</td>\n",
              "      <td>Healthy</td>\n",
              "      <td>BA</td>\n",
              "      <td>No</td>\n",
              "      <td>9.0</td>\n",
              "      <td>1.0</td>\n",
              "      <td>Yes</td>\n",
              "      <td>0</td>\n",
              "    </tr>\n",
              "    <tr>\n",
              "      <th>3</th>\n",
              "      <td>30</td>\n",
              "      <td>Female</td>\n",
              "      <td>28.0</td>\n",
              "      <td>Varanasi</td>\n",
              "      <td>Student</td>\n",
              "      <td>3.0</td>\n",
              "      <td>0.0</td>\n",
              "      <td>5.59</td>\n",
              "      <td>2.0</td>\n",
              "      <td>0.0</td>\n",
              "      <td>'7-8 hours'</td>\n",
              "      <td>Moderate</td>\n",
              "      <td>BCA</td>\n",
              "      <td>Yes</td>\n",
              "      <td>4.0</td>\n",
              "      <td>5.0</td>\n",
              "      <td>Yes</td>\n",
              "      <td>1</td>\n",
              "    </tr>\n",
              "    <tr>\n",
              "      <th>4</th>\n",
              "      <td>32</td>\n",
              "      <td>Female</td>\n",
              "      <td>25.0</td>\n",
              "      <td>Jaipur</td>\n",
              "      <td>Student</td>\n",
              "      <td>4.0</td>\n",
              "      <td>0.0</td>\n",
              "      <td>8.13</td>\n",
              "      <td>3.0</td>\n",
              "      <td>0.0</td>\n",
              "      <td>'5-6 hours'</td>\n",
              "      <td>Moderate</td>\n",
              "      <td>M.Tech</td>\n",
              "      <td>Yes</td>\n",
              "      <td>1.0</td>\n",
              "      <td>1.0</td>\n",
              "      <td>No</td>\n",
              "      <td>0</td>\n",
              "    </tr>\n",
              "    <tr>\n",
              "      <th>...</th>\n",
              "      <td>...</td>\n",
              "      <td>...</td>\n",
              "      <td>...</td>\n",
              "      <td>...</td>\n",
              "      <td>...</td>\n",
              "      <td>...</td>\n",
              "      <td>...</td>\n",
              "      <td>...</td>\n",
              "      <td>...</td>\n",
              "      <td>...</td>\n",
              "      <td>...</td>\n",
              "      <td>...</td>\n",
              "      <td>...</td>\n",
              "      <td>...</td>\n",
              "      <td>...</td>\n",
              "      <td>...</td>\n",
              "      <td>...</td>\n",
              "      <td>...</td>\n",
              "    </tr>\n",
              "    <tr>\n",
              "      <th>27896</th>\n",
              "      <td>140685</td>\n",
              "      <td>Female</td>\n",
              "      <td>27.0</td>\n",
              "      <td>Surat</td>\n",
              "      <td>Student</td>\n",
              "      <td>5.0</td>\n",
              "      <td>0.0</td>\n",
              "      <td>5.75</td>\n",
              "      <td>5.0</td>\n",
              "      <td>0.0</td>\n",
              "      <td>'5-6 hours'</td>\n",
              "      <td>Unhealthy</td>\n",
              "      <td>'Class 12'</td>\n",
              "      <td>Yes</td>\n",
              "      <td>7.0</td>\n",
              "      <td>1.0</td>\n",
              "      <td>Yes</td>\n",
              "      <td>0</td>\n",
              "    </tr>\n",
              "    <tr>\n",
              "      <th>27897</th>\n",
              "      <td>140686</td>\n",
              "      <td>Male</td>\n",
              "      <td>27.0</td>\n",
              "      <td>Ludhiana</td>\n",
              "      <td>Student</td>\n",
              "      <td>2.0</td>\n",
              "      <td>0.0</td>\n",
              "      <td>9.40</td>\n",
              "      <td>3.0</td>\n",
              "      <td>0.0</td>\n",
              "      <td>'Less than 5 hours'</td>\n",
              "      <td>Healthy</td>\n",
              "      <td>MSc</td>\n",
              "      <td>No</td>\n",
              "      <td>0.0</td>\n",
              "      <td>3.0</td>\n",
              "      <td>Yes</td>\n",
              "      <td>0</td>\n",
              "    </tr>\n",
              "    <tr>\n",
              "      <th>27898</th>\n",
              "      <td>140689</td>\n",
              "      <td>Male</td>\n",
              "      <td>31.0</td>\n",
              "      <td>Faridabad</td>\n",
              "      <td>Student</td>\n",
              "      <td>3.0</td>\n",
              "      <td>0.0</td>\n",
              "      <td>6.61</td>\n",
              "      <td>4.0</td>\n",
              "      <td>0.0</td>\n",
              "      <td>'5-6 hours'</td>\n",
              "      <td>Unhealthy</td>\n",
              "      <td>MD</td>\n",
              "      <td>No</td>\n",
              "      <td>12.0</td>\n",
              "      <td>2.0</td>\n",
              "      <td>No</td>\n",
              "      <td>0</td>\n",
              "    </tr>\n",
              "    <tr>\n",
              "      <th>27899</th>\n",
              "      <td>140690</td>\n",
              "      <td>Female</td>\n",
              "      <td>18.0</td>\n",
              "      <td>Ludhiana</td>\n",
              "      <td>Student</td>\n",
              "      <td>5.0</td>\n",
              "      <td>0.0</td>\n",
              "      <td>6.88</td>\n",
              "      <td>2.0</td>\n",
              "      <td>0.0</td>\n",
              "      <td>'Less than 5 hours'</td>\n",
              "      <td>Healthy</td>\n",
              "      <td>'Class 12'</td>\n",
              "      <td>Yes</td>\n",
              "      <td>10.0</td>\n",
              "      <td>5.0</td>\n",
              "      <td>No</td>\n",
              "      <td>1</td>\n",
              "    </tr>\n",
              "    <tr>\n",
              "      <th>27900</th>\n",
              "      <td>140699</td>\n",
              "      <td>Male</td>\n",
              "      <td>27.0</td>\n",
              "      <td>Patna</td>\n",
              "      <td>Student</td>\n",
              "      <td>4.0</td>\n",
              "      <td>0.0</td>\n",
              "      <td>9.24</td>\n",
              "      <td>1.0</td>\n",
              "      <td>0.0</td>\n",
              "      <td>'Less than 5 hours'</td>\n",
              "      <td>Healthy</td>\n",
              "      <td>BCA</td>\n",
              "      <td>Yes</td>\n",
              "      <td>2.0</td>\n",
              "      <td>3.0</td>\n",
              "      <td>Yes</td>\n",
              "      <td>1</td>\n",
              "    </tr>\n",
              "  </tbody>\n",
              "</table>\n",
              "<p>27901 rows × 18 columns</p>\n",
              "</div>\n",
              "    <div class=\"colab-df-buttons\">\n",
              "\n",
              "  <div class=\"colab-df-container\">\n",
              "    <button class=\"colab-df-convert\" onclick=\"convertToInteractive('df-a8c0d387-5bdf-4eb8-885d-23bb24bf64ed')\"\n",
              "            title=\"Convert this dataframe to an interactive table.\"\n",
              "            style=\"display:none;\">\n",
              "\n",
              "  <svg xmlns=\"http://www.w3.org/2000/svg\" height=\"24px\" viewBox=\"0 -960 960 960\">\n",
              "    <path d=\"M120-120v-720h720v720H120Zm60-500h600v-160H180v160Zm220 220h160v-160H400v160Zm0 220h160v-160H400v160ZM180-400h160v-160H180v160Zm440 0h160v-160H620v160ZM180-180h160v-160H180v160Zm440 0h160v-160H620v160Z\"/>\n",
              "  </svg>\n",
              "    </button>\n",
              "\n",
              "  <style>\n",
              "    .colab-df-container {\n",
              "      display:flex;\n",
              "      gap: 12px;\n",
              "    }\n",
              "\n",
              "    .colab-df-convert {\n",
              "      background-color: #E8F0FE;\n",
              "      border: none;\n",
              "      border-radius: 50%;\n",
              "      cursor: pointer;\n",
              "      display: none;\n",
              "      fill: #1967D2;\n",
              "      height: 32px;\n",
              "      padding: 0 0 0 0;\n",
              "      width: 32px;\n",
              "    }\n",
              "\n",
              "    .colab-df-convert:hover {\n",
              "      background-color: #E2EBFA;\n",
              "      box-shadow: 0px 1px 2px rgba(60, 64, 67, 0.3), 0px 1px 3px 1px rgba(60, 64, 67, 0.15);\n",
              "      fill: #174EA6;\n",
              "    }\n",
              "\n",
              "    .colab-df-buttons div {\n",
              "      margin-bottom: 4px;\n",
              "    }\n",
              "\n",
              "    [theme=dark] .colab-df-convert {\n",
              "      background-color: #3B4455;\n",
              "      fill: #D2E3FC;\n",
              "    }\n",
              "\n",
              "    [theme=dark] .colab-df-convert:hover {\n",
              "      background-color: #434B5C;\n",
              "      box-shadow: 0px 1px 3px 1px rgba(0, 0, 0, 0.15);\n",
              "      filter: drop-shadow(0px 1px 2px rgba(0, 0, 0, 0.3));\n",
              "      fill: #FFFFFF;\n",
              "    }\n",
              "  </style>\n",
              "\n",
              "    <script>\n",
              "      const buttonEl =\n",
              "        document.querySelector('#df-a8c0d387-5bdf-4eb8-885d-23bb24bf64ed button.colab-df-convert');\n",
              "      buttonEl.style.display =\n",
              "        google.colab.kernel.accessAllowed ? 'block' : 'none';\n",
              "\n",
              "      async function convertToInteractive(key) {\n",
              "        const element = document.querySelector('#df-a8c0d387-5bdf-4eb8-885d-23bb24bf64ed');\n",
              "        const dataTable =\n",
              "          await google.colab.kernel.invokeFunction('convertToInteractive',\n",
              "                                                    [key], {});\n",
              "        if (!dataTable) return;\n",
              "\n",
              "        const docLinkHtml = 'Like what you see? Visit the ' +\n",
              "          '<a target=\"_blank\" href=https://colab.research.google.com/notebooks/data_table.ipynb>data table notebook</a>'\n",
              "          + ' to learn more about interactive tables.';\n",
              "        element.innerHTML = '';\n",
              "        dataTable['output_type'] = 'display_data';\n",
              "        await google.colab.output.renderOutput(dataTable, element);\n",
              "        const docLink = document.createElement('div');\n",
              "        docLink.innerHTML = docLinkHtml;\n",
              "        element.appendChild(docLink);\n",
              "      }\n",
              "    </script>\n",
              "  </div>\n",
              "\n",
              "\n",
              "<div id=\"df-6957f3ba-0bca-4c79-9abd-29897815c4f5\">\n",
              "  <button class=\"colab-df-quickchart\" onclick=\"quickchart('df-6957f3ba-0bca-4c79-9abd-29897815c4f5')\"\n",
              "            title=\"Suggest charts\"\n",
              "            style=\"display:none;\">\n",
              "\n",
              "<svg xmlns=\"http://www.w3.org/2000/svg\" height=\"24px\"viewBox=\"0 0 24 24\"\n",
              "     width=\"24px\">\n",
              "    <g>\n",
              "        <path d=\"M19 3H5c-1.1 0-2 .9-2 2v14c0 1.1.9 2 2 2h14c1.1 0 2-.9 2-2V5c0-1.1-.9-2-2-2zM9 17H7v-7h2v7zm4 0h-2V7h2v10zm4 0h-2v-4h2v4z\"/>\n",
              "    </g>\n",
              "</svg>\n",
              "  </button>\n",
              "\n",
              "<style>\n",
              "  .colab-df-quickchart {\n",
              "      --bg-color: #E8F0FE;\n",
              "      --fill-color: #1967D2;\n",
              "      --hover-bg-color: #E2EBFA;\n",
              "      --hover-fill-color: #174EA6;\n",
              "      --disabled-fill-color: #AAA;\n",
              "      --disabled-bg-color: #DDD;\n",
              "  }\n",
              "\n",
              "  [theme=dark] .colab-df-quickchart {\n",
              "      --bg-color: #3B4455;\n",
              "      --fill-color: #D2E3FC;\n",
              "      --hover-bg-color: #434B5C;\n",
              "      --hover-fill-color: #FFFFFF;\n",
              "      --disabled-bg-color: #3B4455;\n",
              "      --disabled-fill-color: #666;\n",
              "  }\n",
              "\n",
              "  .colab-df-quickchart {\n",
              "    background-color: var(--bg-color);\n",
              "    border: none;\n",
              "    border-radius: 50%;\n",
              "    cursor: pointer;\n",
              "    display: none;\n",
              "    fill: var(--fill-color);\n",
              "    height: 32px;\n",
              "    padding: 0;\n",
              "    width: 32px;\n",
              "  }\n",
              "\n",
              "  .colab-df-quickchart:hover {\n",
              "    background-color: var(--hover-bg-color);\n",
              "    box-shadow: 0 1px 2px rgba(60, 64, 67, 0.3), 0 1px 3px 1px rgba(60, 64, 67, 0.15);\n",
              "    fill: var(--button-hover-fill-color);\n",
              "  }\n",
              "\n",
              "  .colab-df-quickchart-complete:disabled,\n",
              "  .colab-df-quickchart-complete:disabled:hover {\n",
              "    background-color: var(--disabled-bg-color);\n",
              "    fill: var(--disabled-fill-color);\n",
              "    box-shadow: none;\n",
              "  }\n",
              "\n",
              "  .colab-df-spinner {\n",
              "    border: 2px solid var(--fill-color);\n",
              "    border-color: transparent;\n",
              "    border-bottom-color: var(--fill-color);\n",
              "    animation:\n",
              "      spin 1s steps(1) infinite;\n",
              "  }\n",
              "\n",
              "  @keyframes spin {\n",
              "    0% {\n",
              "      border-color: transparent;\n",
              "      border-bottom-color: var(--fill-color);\n",
              "      border-left-color: var(--fill-color);\n",
              "    }\n",
              "    20% {\n",
              "      border-color: transparent;\n",
              "      border-left-color: var(--fill-color);\n",
              "      border-top-color: var(--fill-color);\n",
              "    }\n",
              "    30% {\n",
              "      border-color: transparent;\n",
              "      border-left-color: var(--fill-color);\n",
              "      border-top-color: var(--fill-color);\n",
              "      border-right-color: var(--fill-color);\n",
              "    }\n",
              "    40% {\n",
              "      border-color: transparent;\n",
              "      border-right-color: var(--fill-color);\n",
              "      border-top-color: var(--fill-color);\n",
              "    }\n",
              "    60% {\n",
              "      border-color: transparent;\n",
              "      border-right-color: var(--fill-color);\n",
              "    }\n",
              "    80% {\n",
              "      border-color: transparent;\n",
              "      border-right-color: var(--fill-color);\n",
              "      border-bottom-color: var(--fill-color);\n",
              "    }\n",
              "    90% {\n",
              "      border-color: transparent;\n",
              "      border-bottom-color: var(--fill-color);\n",
              "    }\n",
              "  }\n",
              "</style>\n",
              "\n",
              "  <script>\n",
              "    async function quickchart(key) {\n",
              "      const quickchartButtonEl =\n",
              "        document.querySelector('#' + key + ' button');\n",
              "      quickchartButtonEl.disabled = true;  // To prevent multiple clicks.\n",
              "      quickchartButtonEl.classList.add('colab-df-spinner');\n",
              "      try {\n",
              "        const charts = await google.colab.kernel.invokeFunction(\n",
              "            'suggestCharts', [key], {});\n",
              "      } catch (error) {\n",
              "        console.error('Error during call to suggestCharts:', error);\n",
              "      }\n",
              "      quickchartButtonEl.classList.remove('colab-df-spinner');\n",
              "      quickchartButtonEl.classList.add('colab-df-quickchart-complete');\n",
              "    }\n",
              "    (() => {\n",
              "      let quickchartButtonEl =\n",
              "        document.querySelector('#df-6957f3ba-0bca-4c79-9abd-29897815c4f5 button');\n",
              "      quickchartButtonEl.style.display =\n",
              "        google.colab.kernel.accessAllowed ? 'block' : 'none';\n",
              "    })();\n",
              "  </script>\n",
              "</div>\n",
              "\n",
              "  <div id=\"id_0b3e306e-6c9d-401c-bcb9-f0e502ba00ad\">\n",
              "    <style>\n",
              "      .colab-df-generate {\n",
              "        background-color: #E8F0FE;\n",
              "        border: none;\n",
              "        border-radius: 50%;\n",
              "        cursor: pointer;\n",
              "        display: none;\n",
              "        fill: #1967D2;\n",
              "        height: 32px;\n",
              "        padding: 0 0 0 0;\n",
              "        width: 32px;\n",
              "      }\n",
              "\n",
              "      .colab-df-generate:hover {\n",
              "        background-color: #E2EBFA;\n",
              "        box-shadow: 0px 1px 2px rgba(60, 64, 67, 0.3), 0px 1px 3px 1px rgba(60, 64, 67, 0.15);\n",
              "        fill: #174EA6;\n",
              "      }\n",
              "\n",
              "      [theme=dark] .colab-df-generate {\n",
              "        background-color: #3B4455;\n",
              "        fill: #D2E3FC;\n",
              "      }\n",
              "\n",
              "      [theme=dark] .colab-df-generate:hover {\n",
              "        background-color: #434B5C;\n",
              "        box-shadow: 0px 1px 3px 1px rgba(0, 0, 0, 0.15);\n",
              "        filter: drop-shadow(0px 1px 2px rgba(0, 0, 0, 0.3));\n",
              "        fill: #FFFFFF;\n",
              "      }\n",
              "    </style>\n",
              "    <button class=\"colab-df-generate\" onclick=\"generateWithVariable('df')\"\n",
              "            title=\"Generate code using this dataframe.\"\n",
              "            style=\"display:none;\">\n",
              "\n",
              "  <svg xmlns=\"http://www.w3.org/2000/svg\" height=\"24px\"viewBox=\"0 0 24 24\"\n",
              "       width=\"24px\">\n",
              "    <path d=\"M7,19H8.4L18.45,9,17,7.55,7,17.6ZM5,21V16.75L18.45,3.32a2,2,0,0,1,2.83,0l1.4,1.43a1.91,1.91,0,0,1,.58,1.4,1.91,1.91,0,0,1-.58,1.4L9.25,21ZM18.45,9,17,7.55Zm-12,3A5.31,5.31,0,0,0,4.9,8.1,5.31,5.31,0,0,0,1,6.5,5.31,5.31,0,0,0,4.9,4.9,5.31,5.31,0,0,0,6.5,1,5.31,5.31,0,0,0,8.1,4.9,5.31,5.31,0,0,0,12,6.5,5.46,5.46,0,0,0,6.5,12Z\"/>\n",
              "  </svg>\n",
              "    </button>\n",
              "    <script>\n",
              "      (() => {\n",
              "      const buttonEl =\n",
              "        document.querySelector('#id_0b3e306e-6c9d-401c-bcb9-f0e502ba00ad button.colab-df-generate');\n",
              "      buttonEl.style.display =\n",
              "        google.colab.kernel.accessAllowed ? 'block' : 'none';\n",
              "\n",
              "      buttonEl.onclick = () => {\n",
              "        google.colab.notebook.generateWithVariable('df');\n",
              "      }\n",
              "      })();\n",
              "    </script>\n",
              "  </div>\n",
              "\n",
              "    </div>\n",
              "  </div>\n"
            ],
            "application/vnd.google.colaboratory.intrinsic+json": {
              "type": "dataframe",
              "variable_name": "df",
              "summary": "{\n  \"name\": \"df\",\n  \"rows\": 27901,\n  \"fields\": [\n    {\n      \"column\": \"id\",\n      \"properties\": {\n        \"dtype\": \"number\",\n        \"std\": 40641,\n        \"min\": 2,\n        \"max\": 140699,\n        \"num_unique_values\": 27901,\n        \"samples\": [\n          101205,\n          83727,\n          38395\n        ],\n        \"semantic_type\": \"\",\n        \"description\": \"\"\n      }\n    },\n    {\n      \"column\": \"Gender\",\n      \"properties\": {\n        \"dtype\": \"category\",\n        \"num_unique_values\": 2,\n        \"samples\": [\n          \"Female\",\n          \"Male\"\n        ],\n        \"semantic_type\": \"\",\n        \"description\": \"\"\n      }\n    },\n    {\n      \"column\": \"Age\",\n      \"properties\": {\n        \"dtype\": \"number\",\n        \"std\": 4.90568744892443,\n        \"min\": 18.0,\n        \"max\": 59.0,\n        \"num_unique_values\": 34,\n        \"samples\": [\n          32.0,\n          42.0\n        ],\n        \"semantic_type\": \"\",\n        \"description\": \"\"\n      }\n    },\n    {\n      \"column\": \"City\",\n      \"properties\": {\n        \"dtype\": \"category\",\n        \"num_unique_values\": 52,\n        \"samples\": [\n          \"Ludhiana\",\n          \"Harsh\"\n        ],\n        \"semantic_type\": \"\",\n        \"description\": \"\"\n      }\n    },\n    {\n      \"column\": \"Profession\",\n      \"properties\": {\n        \"dtype\": \"category\",\n        \"num_unique_values\": 14,\n        \"samples\": [\n          \"Chef\",\n          \"Lawyer\"\n        ],\n        \"semantic_type\": \"\",\n        \"description\": \"\"\n      }\n    },\n    {\n      \"column\": \"Academic Pressure\",\n      \"properties\": {\n        \"dtype\": \"number\",\n        \"std\": 1.3814648413276254,\n        \"min\": 0.0,\n        \"max\": 5.0,\n        \"num_unique_values\": 6,\n        \"samples\": [\n          5.0,\n          2.0\n        ],\n        \"semantic_type\": \"\",\n        \"description\": \"\"\n      }\n    },\n    {\n      \"column\": \"Work Pressure\",\n      \"properties\": {\n        \"dtype\": \"number\",\n        \"std\": 0.043992032063926795,\n        \"min\": 0.0,\n        \"max\": 5.0,\n        \"num_unique_values\": 3,\n        \"samples\": [\n          0.0,\n          5.0\n        ],\n        \"semantic_type\": \"\",\n        \"description\": \"\"\n      }\n    },\n    {\n      \"column\": \"CGPA\",\n      \"properties\": {\n        \"dtype\": \"number\",\n        \"std\": 1.470707346207616,\n        \"min\": 0.0,\n        \"max\": 10.0,\n        \"num_unique_values\": 332,\n        \"samples\": [\n          5.74,\n          6.32\n        ],\n        \"semantic_type\": \"\",\n        \"description\": \"\"\n      }\n    },\n    {\n      \"column\": \"Study Satisfaction\",\n      \"properties\": {\n        \"dtype\": \"number\",\n        \"std\": 1.361147955267022,\n        \"min\": 0.0,\n        \"max\": 5.0,\n        \"num_unique_values\": 6,\n        \"samples\": [\n          2.0,\n          5.0\n        ],\n        \"semantic_type\": \"\",\n        \"description\": \"\"\n      }\n    },\n    {\n      \"column\": \"Job Satisfaction\",\n      \"properties\": {\n        \"dtype\": \"number\",\n        \"std\": 0.044394396218617196,\n        \"min\": 0.0,\n        \"max\": 4.0,\n        \"num_unique_values\": 5,\n        \"samples\": [\n          3.0,\n          1.0\n        ],\n        \"semantic_type\": \"\",\n        \"description\": \"\"\n      }\n    },\n    {\n      \"column\": \"Sleep Duration\",\n      \"properties\": {\n        \"dtype\": \"category\",\n        \"num_unique_values\": 5,\n        \"samples\": [\n          \"'Less than 5 hours'\",\n          \"Others\"\n        ],\n        \"semantic_type\": \"\",\n        \"description\": \"\"\n      }\n    },\n    {\n      \"column\": \"Dietary Habits\",\n      \"properties\": {\n        \"dtype\": \"category\",\n        \"num_unique_values\": 4,\n        \"samples\": [\n          \"Moderate\",\n          \"Others\"\n        ],\n        \"semantic_type\": \"\",\n        \"description\": \"\"\n      }\n    },\n    {\n      \"column\": \"Degree\",\n      \"properties\": {\n        \"dtype\": \"category\",\n        \"num_unique_values\": 28,\n        \"samples\": [\n          \"BE\",\n          \"ME\"\n        ],\n        \"semantic_type\": \"\",\n        \"description\": \"\"\n      }\n    },\n    {\n      \"column\": \"Have you ever had suicidal thoughts ?\",\n      \"properties\": {\n        \"dtype\": \"category\",\n        \"num_unique_values\": 2,\n        \"samples\": [\n          \"No\",\n          \"Yes\"\n        ],\n        \"semantic_type\": \"\",\n        \"description\": \"\"\n      }\n    },\n    {\n      \"column\": \"Work/Study Hours\",\n      \"properties\": {\n        \"dtype\": \"number\",\n        \"std\": 3.707642072778702,\n        \"min\": 0.0,\n        \"max\": 12.0,\n        \"num_unique_values\": 13,\n        \"samples\": [\n          5.0,\n          6.0\n        ],\n        \"semantic_type\": \"\",\n        \"description\": \"\"\n      }\n    },\n    {\n      \"column\": \"Financial Stress\",\n      \"properties\": {\n        \"dtype\": \"category\",\n        \"num_unique_values\": 6,\n        \"samples\": [\n          \"1.0\",\n          \"2.0\"\n        ],\n        \"semantic_type\": \"\",\n        \"description\": \"\"\n      }\n    },\n    {\n      \"column\": \"Family History of Mental Illness\",\n      \"properties\": {\n        \"dtype\": \"category\",\n        \"num_unique_values\": 2,\n        \"samples\": [\n          \"Yes\",\n          \"No\"\n        ],\n        \"semantic_type\": \"\",\n        \"description\": \"\"\n      }\n    },\n    {\n      \"column\": \"Depression\",\n      \"properties\": {\n        \"dtype\": \"number\",\n        \"std\": 0,\n        \"min\": 0,\n        \"max\": 1,\n        \"num_unique_values\": 2,\n        \"samples\": [\n          0,\n          1\n        ],\n        \"semantic_type\": \"\",\n        \"description\": \"\"\n      }\n    }\n  ]\n}"
            }
          },
          "metadata": {},
          "execution_count": 4
        }
      ]
    },
    {
      "cell_type": "markdown",
      "source": [
        "## Cek Nilai Unik dan Missing Values"
      ],
      "metadata": {
        "id": "MLu4_7Lcm36v"
      }
    },
    {
      "cell_type": "code",
      "source": [
        "for col in df.columns:\n",
        "    unique_values = df[col].dropna().unique()\n",
        "    print(f\"Kolom: {col}\")\n",
        "    print(unique_values)\n",
        "    print(\"-\" * 50)\n",
        "\n",
        "df.isnull().sum()"
      ],
      "metadata": {
        "colab": {
          "base_uri": "https://localhost:8080/",
          "height": 1000
        },
        "id": "GlfSR81ln0iq",
        "outputId": "93e0aab8-975d-4a01-8532-f428ddc21d8d"
      },
      "execution_count": null,
      "outputs": [
        {
          "output_type": "stream",
          "name": "stdout",
          "text": [
            "Kolom: id\n",
            "[     2      8     26 ... 140689 140690 140699]\n",
            "--------------------------------------------------\n",
            "Kolom: Gender\n",
            "['Male' 'Female']\n",
            "--------------------------------------------------\n",
            "Kolom: Age\n",
            "[33. 24. 31. 28. 25. 29. 30. 27. 19. 20. 23. 18. 21. 22. 34. 32. 26. 39.\n",
            " 35. 42. 36. 58. 49. 38. 51. 44. 43. 46. 59. 54. 48. 56. 37. 41.]\n",
            "--------------------------------------------------\n",
            "Kolom: City\n",
            "['Visakhapatnam' 'Bangalore' 'Srinagar' 'Varanasi' 'Jaipur' 'Pune' 'Thane'\n",
            " 'Chennai' 'Nagpur' 'Nashik' 'Vadodara' 'Kalyan' 'Rajkot' 'Ahmedabad'\n",
            " 'Kolkata' 'Mumbai' 'Lucknow' 'Indore' 'Surat' 'Ludhiana' 'Bhopal'\n",
            " 'Meerut' 'Agra' 'Ghaziabad' 'Hyderabad' 'Vasai-Virar' 'Kanpur' 'Patna'\n",
            " 'Faridabad' 'Delhi' 'Saanvi' 'M.Tech' 'Bhavna' \"'Less Delhi'\" 'City'\n",
            " '3.0' \"'Less than 5 Kalyan'\" 'Mira' 'Harsha' 'Vaanya' 'Gaurav' 'Harsh'\n",
            " 'Reyansh' 'Kibara' 'Rashi' 'ME' 'M.Com' 'Nalyan' 'Mihir' 'Nalini'\n",
            " 'Nandini' 'Khaziabad']\n",
            "--------------------------------------------------\n",
            "Kolom: Profession\n",
            "['Student' \"'Civil Engineer'\" 'Architect' \"'UX/UI Designer'\"\n",
            " \"'Digital Marketer'\" \"'Content Writer'\" \"'Educational Consultant'\"\n",
            " 'Teacher' 'Manager' 'Chef' 'Doctor' 'Lawyer' 'Entrepreneur' 'Pharmacist']\n",
            "--------------------------------------------------\n",
            "Kolom: Academic Pressure\n",
            "[5. 2. 3. 4. 1. 0.]\n",
            "--------------------------------------------------\n",
            "Kolom: Work Pressure\n",
            "[0. 5. 2.]\n",
            "--------------------------------------------------\n",
            "Kolom: CGPA\n",
            "[ 8.97    5.9     7.03    5.59    8.13    5.7     9.54    8.04    9.79\n",
            "  8.38    6.1     7.04    8.52    5.64    8.58    6.51    7.25    7.83\n",
            "  9.93    8.74    6.73    5.57    8.59    7.1     6.08    5.74    9.86\n",
            "  6.7     6.21    5.87    6.37    9.72    5.88    9.56    6.99    5.24\n",
            "  9.21    7.85    6.95    5.86    7.92    9.66    8.94    9.71    7.87\n",
            "  5.6     7.9     5.46    6.79    8.7     7.38    8.5     7.09    9.82\n",
            "  8.89    7.94    9.11    6.75    7.53    9.49    9.01    7.64    5.27\n",
            "  6.      9.44    5.75    7.51    9.05    6.38    8.95    9.88    5.32\n",
            "  6.27    7.7     8.1     9.59    8.96    5.51    7.43    8.79    9.95\n",
            "  5.37    6.86    8.32    9.74    5.66    7.48    8.23    8.81    6.03\n",
            "  5.56    5.68    5.14    7.61    6.17    8.17    9.87    8.75    6.16\n",
            "  9.5     7.99    5.67    8.92    6.19    5.76    6.25    5.11    5.58\n",
            "  5.65    9.89    8.03    6.61    9.41    8.64    7.21    8.28    6.04\n",
            "  9.13    8.08    9.96    5.12    8.35    7.07    9.6     9.24    8.54\n",
            "  8.78    8.93    8.91    9.04    6.83    5.85    7.74    6.41    8.9\n",
            "  7.75    7.88    5.42    7.52    7.68    8.4     9.39    6.84    5.99\n",
            "  8.62    8.53    7.47    6.78    6.42    9.92    8.39    5.89    7.22\n",
            "  6.81    9.02    9.97    9.63    9.67    5.41    7.27    6.05    6.85\n",
            "  9.33    5.81    6.53    5.98    6.02    6.74    5.26    7.72    7.39\n",
            "  8.43    9.34    5.44    5.82    5.72    8.19    8.44    8.98    9.37\n",
            "  5.8     7.28    7.6     7.91    9.17    7.46    9.43    9.91    9.36\n",
            "  5.16    7.08    9.26    8.83   10.      7.8     9.46    6.63    7.24\n",
            "  6.47    7.77    5.06    7.17    8.24    6.88    9.03    5.08    5.45\n",
            "  8.46    9.19    6.36    8.73    7.11    9.12    9.4     8.11    9.98\n",
            "  5.55    8.61    8.14    6.89    9.84    5.48    8.21    7.82    8.55\n",
            "  5.79    8.77    8.29    6.92    7.37    9.7     6.26    7.26    7.5\n",
            "  6.82    7.15    5.77    5.91    5.1     7.71    9.06    5.71    5.84\n",
            "  9.42    6.23    6.29    5.25    9.69    9.9     6.39    8.09    5.83\n",
            "  5.47    6.56    8.71    9.94    6.69    5.52    7.3     7.02    6.33\n",
            "  8.07    8.37    8.      7.79    8.65    6.28    7.35    8.69    7.12\n",
            "  7.32    7.13    5.97    5.09    6.91    6.76    6.52    7.45    8.56\n",
            "  6.5     8.63    8.27    8.49    6.59    9.29    5.3     7.06    5.38\n",
            "  6.65    9.16    8.01    8.25    8.02    8.47    7.34    8.88    7.14\n",
            "  8.42    5.17    9.1     7.49    9.85    7.42    9.31    6.35    7.\n",
            "  5.39    5.61    9.78    9.25    5.69    9.47    8.16    7.23    6.46\n",
            "  0.      8.26    6.32    6.77    8.85    5.03    7.65    5.78    6.24\n",
            "  5.35    6.06    7.78    6.64    7.0625  6.98    6.44    6.09  ]\n",
            "--------------------------------------------------\n",
            "Kolom: Study Satisfaction\n",
            "[2. 5. 3. 4. 1. 0.]\n",
            "--------------------------------------------------\n",
            "Kolom: Job Satisfaction\n",
            "[0. 3. 4. 2. 1.]\n",
            "--------------------------------------------------\n",
            "Kolom: Sleep Duration\n",
            "[\"'5-6 hours'\" \"'Less than 5 hours'\" \"'7-8 hours'\" \"'More than 8 hours'\"\n",
            " 'Others']\n",
            "--------------------------------------------------\n",
            "Kolom: Dietary Habits\n",
            "['Healthy' 'Moderate' 'Unhealthy' 'Others']\n",
            "--------------------------------------------------\n",
            "Kolom: Degree\n",
            "['B.Pharm' 'BSc' 'BA' 'BCA' 'M.Tech' 'PhD' \"'Class 12'\" 'B.Ed' 'LLB' 'BE'\n",
            " 'M.Ed' 'MSc' 'BHM' 'M.Pharm' 'MCA' 'MA' 'B.Com' 'MD' 'MBA' 'MBBS' 'M.Com'\n",
            " 'B.Arch' 'LLM' 'B.Tech' 'BBA' 'ME' 'MHM' 'Others']\n",
            "--------------------------------------------------\n",
            "Kolom: Have you ever had suicidal thoughts ?\n",
            "['Yes' 'No']\n",
            "--------------------------------------------------\n",
            "Kolom: Work/Study Hours\n",
            "[ 3.  9.  4.  1.  0. 12.  2. 11. 10.  6.  8.  5.  7.]\n",
            "--------------------------------------------------\n",
            "Kolom: Financial Stress\n",
            "['1.0' '2.0' '5.0' '3.0' '4.0' '?']\n",
            "--------------------------------------------------\n",
            "Kolom: Family History of Mental Illness\n",
            "['No' 'Yes']\n",
            "--------------------------------------------------\n",
            "Kolom: Depression\n",
            "[1 0]\n",
            "--------------------------------------------------\n"
          ]
        },
        {
          "output_type": "execute_result",
          "data": {
            "text/plain": [
              "id                                       0\n",
              "Gender                                   0\n",
              "Age                                      0\n",
              "City                                     0\n",
              "Profession                               0\n",
              "Academic Pressure                        0\n",
              "Work Pressure                            0\n",
              "CGPA                                     0\n",
              "Study Satisfaction                       0\n",
              "Job Satisfaction                         0\n",
              "Sleep Duration                           0\n",
              "Dietary Habits                           0\n",
              "Degree                                   0\n",
              "Have you ever had suicidal thoughts ?    0\n",
              "Work/Study Hours                         0\n",
              "Financial Stress                         0\n",
              "Family History of Mental Illness         0\n",
              "Depression                               0\n",
              "dtype: int64"
            ],
            "text/html": [
              "<div>\n",
              "<style scoped>\n",
              "    .dataframe tbody tr th:only-of-type {\n",
              "        vertical-align: middle;\n",
              "    }\n",
              "\n",
              "    .dataframe tbody tr th {\n",
              "        vertical-align: top;\n",
              "    }\n",
              "\n",
              "    .dataframe thead th {\n",
              "        text-align: right;\n",
              "    }\n",
              "</style>\n",
              "<table border=\"1\" class=\"dataframe\">\n",
              "  <thead>\n",
              "    <tr style=\"text-align: right;\">\n",
              "      <th></th>\n",
              "      <th>0</th>\n",
              "    </tr>\n",
              "  </thead>\n",
              "  <tbody>\n",
              "    <tr>\n",
              "      <th>id</th>\n",
              "      <td>0</td>\n",
              "    </tr>\n",
              "    <tr>\n",
              "      <th>Gender</th>\n",
              "      <td>0</td>\n",
              "    </tr>\n",
              "    <tr>\n",
              "      <th>Age</th>\n",
              "      <td>0</td>\n",
              "    </tr>\n",
              "    <tr>\n",
              "      <th>City</th>\n",
              "      <td>0</td>\n",
              "    </tr>\n",
              "    <tr>\n",
              "      <th>Profession</th>\n",
              "      <td>0</td>\n",
              "    </tr>\n",
              "    <tr>\n",
              "      <th>Academic Pressure</th>\n",
              "      <td>0</td>\n",
              "    </tr>\n",
              "    <tr>\n",
              "      <th>Work Pressure</th>\n",
              "      <td>0</td>\n",
              "    </tr>\n",
              "    <tr>\n",
              "      <th>CGPA</th>\n",
              "      <td>0</td>\n",
              "    </tr>\n",
              "    <tr>\n",
              "      <th>Study Satisfaction</th>\n",
              "      <td>0</td>\n",
              "    </tr>\n",
              "    <tr>\n",
              "      <th>Job Satisfaction</th>\n",
              "      <td>0</td>\n",
              "    </tr>\n",
              "    <tr>\n",
              "      <th>Sleep Duration</th>\n",
              "      <td>0</td>\n",
              "    </tr>\n",
              "    <tr>\n",
              "      <th>Dietary Habits</th>\n",
              "      <td>0</td>\n",
              "    </tr>\n",
              "    <tr>\n",
              "      <th>Degree</th>\n",
              "      <td>0</td>\n",
              "    </tr>\n",
              "    <tr>\n",
              "      <th>Have you ever had suicidal thoughts ?</th>\n",
              "      <td>0</td>\n",
              "    </tr>\n",
              "    <tr>\n",
              "      <th>Work/Study Hours</th>\n",
              "      <td>0</td>\n",
              "    </tr>\n",
              "    <tr>\n",
              "      <th>Financial Stress</th>\n",
              "      <td>0</td>\n",
              "    </tr>\n",
              "    <tr>\n",
              "      <th>Family History of Mental Illness</th>\n",
              "      <td>0</td>\n",
              "    </tr>\n",
              "    <tr>\n",
              "      <th>Depression</th>\n",
              "      <td>0</td>\n",
              "    </tr>\n",
              "  </tbody>\n",
              "</table>\n",
              "</div><br><label><b>dtype:</b> int64</label>"
            ]
          },
          "metadata": {},
          "execution_count": 5
        }
      ]
    },
    {
      "cell_type": "markdown",
      "source": [
        "- Melakukan iterasi pada setiap kolom untuk melihat nilai unik.\n",
        "\n",
        "- Mengecek jumlah nilai yang hilang (missing values) di setiap kolom dan tidak terdapat missing value pada data ini.\n",
        "\n"
      ],
      "metadata": {
        "id": "ktJg0_oMdSHS"
      }
    },
    {
      "cell_type": "markdown",
      "source": [
        "## Membersihkan Data"
      ],
      "metadata": {
        "id": "aMF-lv7SdXzs"
      }
    },
    {
      "cell_type": "code",
      "source": [
        "df_clean = df.drop(columns=[\"id\"])"
      ],
      "metadata": {
        "id": "QTvPdEerpCC0"
      },
      "execution_count": null,
      "outputs": []
    },
    {
      "cell_type": "markdown",
      "source": [
        "Menghapus kolom id karena tidak relevan untuk analisis."
      ],
      "metadata": {
        "id": "TKyUD8aDdg5D"
      }
    },
    {
      "cell_type": "code",
      "source": [
        "categorical_cols = df.select_dtypes(include=[\"object\"]).columns.tolist()\n",
        "df[categorical_cols] = df[categorical_cols].apply(lambda x: x.str.strip() if x.dtype == 'object' else x)"
      ],
      "metadata": {
        "id": "nVUGgaqdpFS0"
      },
      "execution_count": null,
      "outputs": []
    },
    {
      "cell_type": "markdown",
      "source": [
        "- Mengambil semua kolom yang bertipe kategori (string/object).\n",
        "\n",
        "- Membersihkan nilai dari spasi yang tidak perlu (strip())."
      ],
      "metadata": {
        "id": "ruam6IBzdh0E"
      }
    },
    {
      "cell_type": "code",
      "source": [
        "df.drop_duplicates(inplace=True)"
      ],
      "metadata": {
        "id": "Tc5mlooepP_1"
      },
      "execution_count": null,
      "outputs": []
    },
    {
      "cell_type": "markdown",
      "source": [
        "Menghapus data yang duplikat agar tidak memengaruhi analisis.\n",
        "\n"
      ],
      "metadata": {
        "id": "txz7Mexndzs4"
      }
    },
    {
      "cell_type": "markdown",
      "source": [
        "## Mengubah 'Sleep Duration' Menjadi Numerik"
      ],
      "metadata": {
        "id": "B8bTHbm0nDdW"
      }
    },
    {
      "cell_type": "code",
      "source": [
        "df['Sleep Duration'] = df['Sleep Duration'].astype(str).str.strip().str.replace(\"'\", \"\")\n",
        "\n",
        "def convert_sleep_duration(sleep_str):\n",
        "    mapping = {\n",
        "        'Less than 5 hours': 4.5,\n",
        "        '5-6 hours': 5.5,\n",
        "        '7-8 hours': 7.5,\n",
        "        'More than 8 hours': 9.0\n",
        "    }\n",
        "    return mapping.get(sleep_str, np.nan)\n",
        "\n",
        "df['Sleep Duration'] = df['Sleep Duration'].apply(convert_sleep_duration)\n",
        "\n",
        "print(f\"Jumlah NaN di 'Sleep Duration': {df['Sleep Duration'].isnull().sum()}\")\n",
        "print(f\"Nilai unik setelah konversi: {df['Sleep Duration'].unique()}\")\n"
      ],
      "metadata": {
        "colab": {
          "base_uri": "https://localhost:8080/"
        },
        "id": "-coE1xCnplBz",
        "outputId": "a724f12a-b6df-48e5-fe9d-d475d7f3cd76"
      },
      "execution_count": null,
      "outputs": [
        {
          "output_type": "stream",
          "name": "stdout",
          "text": [
            "Jumlah NaN di 'Sleep Duration': 18\n",
            "Nilai unik setelah konversi: [5.5 4.5 7.5 9.  nan]\n"
          ]
        }
      ]
    },
    {
      "cell_type": "markdown",
      "source": [
        "- Menghilangkan tanda kutip yang ada di data.\n",
        "\n",
        "- Menggunakan dictionary mapping untuk mengonversi data kategori ke angka."
      ],
      "metadata": {
        "id": "3NDcukfbeHah"
      }
    },
    {
      "cell_type": "code",
      "source": [
        "mean_sleep = df['Sleep Duration'].dropna().mean()\n",
        "df['Sleep Duration'] = df['Sleep Duration'].fillna(mean_sleep)"
      ],
      "metadata": {
        "id": "n89qLzK1GUS8"
      },
      "execution_count": null,
      "outputs": []
    },
    {
      "cell_type": "markdown",
      "source": [
        "Mengganti 'nan' dengan diisi rata-rata Sleep Duration."
      ],
      "metadata": {
        "id": "dilLPpODeZrq"
      }
    },
    {
      "cell_type": "markdown",
      "source": [
        "##  Encoding Data Kategorikal"
      ],
      "metadata": {
        "id": "cnrh-DJNesPB"
      }
    },
    {
      "cell_type": "code",
      "source": [
        "label_encoders = {}\n",
        "for col in categorical_cols:\n",
        "    le = LabelEncoder()\n",
        "    df[col] = le.fit_transform(df[col])\n",
        "    label_encoders[col] = le\n",
        "\n",
        "print(df[categorical_cols].head())"
      ],
      "metadata": {
        "colab": {
          "base_uri": "https://localhost:8080/"
        },
        "id": "B7mppIzXqE28",
        "outputId": "226d5a13-291f-40e8-fbfc-2038689841d3"
      },
      "execution_count": null,
      "outputs": [
        {
          "output_type": "stream",
          "name": "stdout",
          "text": [
            "   Gender  City  Profession  Sleep Duration  Dietary Habits  Degree  \\\n",
            "0       1    51          12               1               0       4   \n",
            "1       0     5          12               1               1      11   \n",
            "2       1    44          12               0               0       6   \n",
            "3       0    49          12               3               1       8   \n",
            "4       0    18          12               1               1      17   \n",
            "\n",
            "   Have you ever had suicidal thoughts ?  Financial Stress  \\\n",
            "0                                      1                 0   \n",
            "1                                      0                 1   \n",
            "2                                      0                 0   \n",
            "3                                      1                 4   \n",
            "4                                      1                 0   \n",
            "\n",
            "   Family History of Mental Illness  \n",
            "0                                 0  \n",
            "1                                 1  \n",
            "2                                 1  \n",
            "3                                 1  \n",
            "4                                 0  \n"
          ]
        }
      ]
    },
    {
      "cell_type": "markdown",
      "source": [
        "Menggunakan LabelEncoder untuk mengubah data kategorikal menjadi angka."
      ],
      "metadata": {
        "id": "GYyAgSEJe3qt"
      }
    },
    {
      "cell_type": "markdown",
      "source": [
        "## Split dataset"
      ],
      "metadata": {
        "id": "gEuMwoCjnHUx"
      }
    },
    {
      "cell_type": "code",
      "source": [
        "X = df.drop(columns=['id', 'Depression'])\n",
        "y = df['Depression']\n",
        "\n",
        "X_train, X_test, y_train, y_test = train_test_split(X, y, test_size=0.2, random_state=42)\n",
        "\n",
        "print(X_train.shape, X_test.shape, y_train.shape, y_test.shape)"
      ],
      "metadata": {
        "colab": {
          "base_uri": "https://localhost:8080/"
        },
        "id": "3sZUUmymGmLI",
        "outputId": "98a8e437-460a-4481-856c-871c3ed2c06e"
      },
      "execution_count": null,
      "outputs": [
        {
          "output_type": "stream",
          "name": "stdout",
          "text": [
            "(22320, 16) (5581, 16) (22320,) (5581,)\n"
          ]
        }
      ]
    },
    {
      "cell_type": "markdown",
      "source": [
        "- Memisahkan fitur (X) dan target (y).\n",
        "\n",
        "- Membagi data menjadi 80% training dan 20% testing."
      ],
      "metadata": {
        "id": "unK8lLWpfQ6m"
      }
    },
    {
      "cell_type": "markdown",
      "source": [
        "## Normalisasi Data"
      ],
      "metadata": {
        "id": "V7uC1WjMJl-P"
      }
    },
    {
      "cell_type": "code",
      "source": [
        "from sklearn.preprocessing import StandardScaler\n",
        "\n",
        "scaler = StandardScaler()\n",
        "X_train = scaler.fit_transform(X_train)\n",
        "X_test = scaler.transform(X_test)\n",
        "\n",
        "print(X_train[:5])"
      ],
      "metadata": {
        "colab": {
          "base_uri": "https://localhost:8080/"
        },
        "id": "xns7ko3SG0Ow",
        "outputId": "93e84fb9-47eb-4726-c2f6-9b38589be089"
      },
      "execution_count": null,
      "outputs": [
        {
          "output_type": "stream",
          "name": "stdout",
          "text": [
            "[[ 0.88940698  0.44630959  1.40787911  0.02657679 -0.83133228 -0.01093108\n",
            "   0.43620393  1.51233496 -0.01715098 -0.55635894 -0.3750574   1.21464358\n",
            "  -1.31781471 -0.84772572 -1.48678731  1.03066716]\n",
            " [-1.12434467  1.4664249   0.69644182  0.02657679  0.61785051 -0.01093108\n",
            "   0.95230841  0.77770926 -0.01715098 -1.18514681 -1.18239477  0.61278757\n",
            "  -1.31781471  1.3074662   0.59862039  1.03066716]\n",
            " [-1.12434467  1.4664249  -0.59708053  0.02657679  0.61785051 -0.01093108\n",
            "   0.29359611  0.77770926 -0.01715098 -1.18514681 -1.18239477  1.09427238\n",
            "   0.75883202  1.3074662  -0.09651551 -0.97024534]\n",
            " [-1.12434467  0.65033265 -0.46772829  0.02657679 -0.83133228 -0.01093108\n",
            "  -1.28188073  0.77770926 -0.01715098 -0.55635894 -0.3750574   0.73315877\n",
            "  -1.31781471  0.76866822 -0.79165141  1.03066716]\n",
            " [-1.12434467 -1.18587491  1.14917464  0.02657679  1.34244191 -0.01093108\n",
            "  -1.27508988  1.51233496 -0.01715098  0.70121679 -0.3750574  -1.07240926\n",
            "   0.75883202  1.03806721  1.29375629 -0.97024534]]\n"
          ]
        }
      ]
    },
    {
      "cell_type": "markdown",
      "source": [
        "Standardisasi data agar memiliki skala yang sama."
      ],
      "metadata": {
        "id": "hpintG2DfeiQ"
      }
    },
    {
      "cell_type": "markdown",
      "source": [
        "#  Implementasi Model"
      ],
      "metadata": {
        "id": "eH_aLoonnLVy"
      }
    },
    {
      "cell_type": "markdown",
      "source": [
        "## Train Model Random Forest"
      ],
      "metadata": {
        "id": "9Jgfvb4_HAn1"
      }
    },
    {
      "cell_type": "code",
      "source": [
        "rf_model = RandomForestClassifier(n_estimators=100, random_state=42)\n",
        "rf_model.fit(X_train, y_train)\n",
        "y_pred = rf_model.predict(X_test)"
      ],
      "metadata": {
        "id": "FCDIiO7VG5FJ"
      },
      "execution_count": null,
      "outputs": []
    },
    {
      "cell_type": "markdown",
      "source": [
        "- Menggunakan Random Forest sebagai model pertama.\n",
        "\n",
        "- Melatih model dan melakukan prediksi."
      ],
      "metadata": {
        "id": "hisPR3e1hkms"
      }
    },
    {
      "cell_type": "markdown",
      "source": [
        "## Evaluasi Model Random Forest"
      ],
      "metadata": {
        "id": "G-LFw0Gdh8uf"
      }
    },
    {
      "cell_type": "code",
      "source": [
        "print(\"\\nRandom Forest Results:\")\n",
        "print(\"Accuracy:\", accuracy_score(y_test, y_pred))\n",
        "print(\"\\nClassification Report:\\n\", classification_report(y_test, y_pred))"
      ],
      "metadata": {
        "colab": {
          "base_uri": "https://localhost:8080/"
        },
        "id": "rYGlAGKKhiA-",
        "outputId": "c2970a60-6871-427f-d638-1bd8a763e755"
      },
      "execution_count": null,
      "outputs": [
        {
          "output_type": "stream",
          "name": "stdout",
          "text": [
            "\n",
            "Random Forest Results:\n",
            "Accuracy: 0.8260168428597026\n",
            "\n",
            "Classification Report:\n",
            "               precision    recall  f1-score   support\n",
            "\n",
            "           0       0.80      0.78      0.79      2343\n",
            "           1       0.84      0.86      0.85      3238\n",
            "\n",
            "    accuracy                           0.83      5581\n",
            "   macro avg       0.82      0.82      0.82      5581\n",
            "weighted avg       0.83      0.83      0.83      5581\n",
            "\n"
          ]
        }
      ]
    },
    {
      "cell_type": "code",
      "source": [
        "conf_matrix_rf = confusion_matrix(y_test, y_pred)\n",
        "sns.heatmap(conf_matrix_rf, annot=True, fmt=\"d\", cmap=\"Blues\")\n",
        "plt.xlabel(\"Predicted\")\n",
        "plt.ylabel(\"Actual\")\n",
        "plt.title(\"Confusion Matrix for Depression Prediction\")\n",
        "plt.show()"
      ],
      "metadata": {
        "colab": {
          "base_uri": "https://localhost:8080/",
          "height": 472
        },
        "id": "mObYFvboiFnh",
        "outputId": "8e95f2cc-47de-4bfa-e433-da7deda4472d"
      },
      "execution_count": null,
      "outputs": [
        {
          "output_type": "display_data",
          "data": {
            "text/plain": [
              "<Figure size 640x480 with 2 Axes>"
            ],
            "image/png": "[encoded data removed]"
          },
          "metadata": {}
        }
      ]
    },
    {
      "cell_type": "markdown",
      "source": [
        "- True Negative (TN) = 1826 → Model memprediksi \"No\" dan benar (tidak depresi).\n",
        "\n",
        "- False Positive (FP) = 517 → Model memprediksi \"Yes\" (depresi), tetapi sebenarnya \"No\" → Type I Error.\n",
        "\n",
        "- False Negative (FN) = 454 → Model memprediksi \"No\" (tidak depresi), tetapi sebenarnya \"Yes\" → Type II Error.\n",
        "\n",
        "- True Positive (TP) = 2784 → Model memprediksi \"Yes\" dan benar (depresi)."
      ],
      "metadata": {
        "id": "2I87GSKyiTni"
      }
    },
    {
      "cell_type": "markdown",
      "source": [
        "## Train Model SVM"
      ],
      "metadata": {
        "id": "491z5SjcHHJI"
      }
    },
    {
      "cell_type": "code",
      "source": [
        "svm_model = SVC(kernel='linear', random_state=42)\n",
        "svm_model.fit(X_train, y_train)\n",
        "y_pred_svm = svm_model.predict(X_test)"
      ],
      "metadata": {
        "id": "HKDjE_H4iWcY"
      },
      "execution_count": null,
      "outputs": []
    },
    {
      "cell_type": "markdown",
      "source": [
        "Melatih Support Vector Machine (SVM) sebagai model kedua."
      ],
      "metadata": {
        "id": "VgisrFcqiZRD"
      }
    },
    {
      "cell_type": "markdown",
      "source": [
        "## Evaluasi Model SVM"
      ],
      "metadata": {
        "id": "hd7RQIUYixWa"
      }
    },
    {
      "cell_type": "code",
      "source": [
        "print(\"\\nSupport Vector Machine (SVM) Results:\")\n",
        "print(f\"Accuracy: {accuracy_score(y_test, y_pred_svm):.4f}\")\n",
        "print(\"\\nClassification Report:\\n\", classification_report(y_test, y_pred_svm))"
      ],
      "metadata": {
        "colab": {
          "base_uri": "https://localhost:8080/"
        },
        "id": "OjaHvhBVioR-",
        "outputId": "893f50a1-9633-45ed-d6c4-3e29393c8baf"
      },
      "execution_count": null,
      "outputs": [
        {
          "output_type": "stream",
          "name": "stdout",
          "text": [
            "\n",
            "Support Vector Machine (SVM) Results:\n",
            "Accuracy: 0.8369\n",
            "\n",
            "Classification Report:\n",
            "               precision    recall  f1-score   support\n",
            "\n",
            "           0       0.82      0.78      0.80      2343\n",
            "           1       0.85      0.88      0.86      3238\n",
            "\n",
            "    accuracy                           0.84      5581\n",
            "   macro avg       0.83      0.83      0.83      5581\n",
            "weighted avg       0.84      0.84      0.84      5581\n",
            "\n"
          ]
        }
      ]
    },
    {
      "cell_type": "code",
      "source": [
        "conf_matrix_svm = confusion_matrix(y_test, y_pred_svm)\n",
        "print(\"Confusion Matrix:\")\n",
        "print(conf_matrix_svm)\n",
        "\n",
        "plt.figure(figsize=(6, 4))\n",
        "sns.heatmap(conf_matrix_svm, annot=True, fmt=\"d\", cmap=\"Blues\", xticklabels=[\"No\", \"Yes\"], yticklabels=[\"No\", \"Yes\"])\n",
        "plt.xlabel(\"Predicted\")\n",
        "plt.ylabel(\"Actual\")\n",
        "plt.title(\"Confusion Matrix for SVM Model\")\n",
        "plt.show()"
      ],
      "metadata": {
        "colab": {
          "base_uri": "https://localhost:8080/",
          "height": 465
        },
        "id": "1qAu5O7Wi3bs",
        "outputId": "601aef65-c4d7-4f01-9ccc-439d44fab709"
      },
      "execution_count": null,
      "outputs": [
        {
          "output_type": "stream",
          "name": "stdout",
          "text": [
            "Confusion Matrix:\n",
            "[[1826  517]\n",
            " [ 393 2845]]\n"
          ]
        },
        {
          "output_type": "display_data",
          "data": {
            "text/plain": [
              "<Figure size 600x400 with 2 Axes>"
            ],
            "image/png": "[encoded data removed]"
          },
          "metadata": {}
        }
      ]
    },
    {
      "cell_type": "markdown",
      "source": [
        "- True Negative (TN) = 1826\n",
        "→ Model memprediksi \"No\" dan memang benar \"No\".\n",
        "\n",
        "- False Positive (FP) = 517\n",
        "→ Model memprediksi \"Yes\", tetapi seharusnya \"No\". (Kesalahan jenis I - Type I Error)\n",
        "\n",
        "- False Negative (FN) = 393\n",
        "→ Model memprediksi \"No\", tetapi seharusnya \"Yes\". (Kesalahan jenis II - Type II Error)\n",
        "\n",
        "- True Positive (TP) = 2845\n",
        "→ Model memprediksi \"Yes\" dan memang benar \"Yes\"."
      ],
      "metadata": {
        "id": "9NfH3NPljSDZ"
      }
    },
    {
      "cell_type": "markdown",
      "source": [
        "# Perbandingan Performa Model SVM dan Random Forest\n",
        "\n",
        " SVM lebih unggul dibandingkan Random Forest karena:\n",
        "\n",
        "- Akurasi lebih tinggi (83.69% vs. 82.60%)\n",
        "\n",
        "- Precision lebih tinggi (lebih sedikit false positives)\n",
        "\n",
        "- Recall lebih tinggi (lebih sedikit false negatives)\n",
        "\n",
        "- F1-score lebih baik (lebih seimbang dalam prediksi positif & negatif)\n"
      ],
      "metadata": {
        "id": "l_R_aXS_k_BV"
      }
    },
    {
      "cell_type": "markdown",
      "source": [
        "# Menampilkan tingkat kepentingan fitur"
      ],
      "metadata": {
        "id": "rO7Aei0koUZk"
      }
    },
    {
      "cell_type": "code",
      "source": [
        "importances = rf_model.feature_importances_  # Use the Random Forest model for feature importances\n",
        "feature_names = X.columns\n",
        "importance_df = pd.DataFrame({\"Feature\": feature_names, \"Importance\": importances})\n",
        "importance_df = importance_df.sort_values(by=\"Importance\", ascending=False)\n",
        "\n",
        "plt.figure(figsize=(10, 6))\n",
        "sns.barplot(data=importance_df, x=\"Importance\", y=\"Feature\")\n",
        "plt.title(\"Feature Importance for Predicting Depression\")\n",
        "plt.tight_layout()\n",
        "plt.show()"
      ],
      "metadata": {
        "colab": {
          "base_uri": "https://localhost:8080/",
          "height": 607
        },
        "id": "AAX26dZXHSTR",
        "outputId": "25a95ce8-9feb-47cd-c949-5c52ac65a78f"
      },
      "execution_count": null,
      "outputs": [
        {
          "output_type": "display_data",
          "data": {
            "text/plain": [
              "<Figure size 1000x600 with 1 Axes>"
            ],
            "image/png": "[encoded data removed]"
          },
          "metadata": {}
        }
      ]
    },
    {
      "cell_type": "markdown",
      "source": [
        "- \"Have you ever had suicidal thoughts?\" adalah fitur yang paling penting dalam memprediksi depresi. Ini menunjukkan bahwa pertanyaan tentang pikiran untuk bunuh diri sangat relevan dalam mengidentifikasi individu yang berisiko mengalami depresi.\n",
        "\n",
        "- \"Academic Pressure\" juga merupakan fitur yang sangat penting, menunjukkan bahwa tekanan akademik dapat menjadi faktor risiko yang signifikan untuk depresi.\n",
        "\n",
        "- \"Financial Stress\", \"CGPA\", dan \"Age\" juga memiliki tingkat kepentingan yang cukup tinggi, menunjukkan bahwa stres keuangan, prestasi akademik, dan usia juga berperan dalam prediksi depresi.\n",
        "\n",
        "- Fitur-fitur lain, seperti \"Gender\", \"Family History of Mental Illness\", \"Profession\", \"Job Satisfaction\", dan \"Work Pressure\", memiliki tingkat kepentingan yang relatif rendah. Ini menunjukkan bahwa fitur-fitur ini mungkin tidak sekuat fitur-fitur lainnya dalam memprediksi depresi."
      ],
      "metadata": {
        "id": "308OFvHepHQV"
      }
    }
  ]
}